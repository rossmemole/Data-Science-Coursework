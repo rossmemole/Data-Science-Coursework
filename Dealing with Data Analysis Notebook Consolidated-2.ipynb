{
 "cells": [
  {
   "cell_type": "code",
   "execution_count": null,
   "metadata": {},
   "outputs": [],
   "source": [
    "%matplotlib inline\n",
    "%config InlineBackend.figure_format = 'retina'\n",
    "\n",
    "import pandas as pd\n",
    "from sqlalchemy import create_engine\n",
    "import geopandas as gpd\n",
    "import seaborn as sns\n",
    "import matplotlib as plt\n"
   ]
  },
  {
   "cell_type": "code",
   "execution_count": null,
   "metadata": {},
   "outputs": [],
   "source": [
    "conn_string = 'mysql://{user}:{password}@{host}:{port}/{db}?charset={encoding}'.format(\n",
    "    user='dreamteam', \n",
    "    password='dreamteam', \n",
    "    # Sunsetting enhanced server after analysis is complete, it's costing money!\n",
    "    # host = 'dreamteam-enhanced.conr4khphv8c.us-east-2.rds.amazonaws.com', \n",
    "    host = 'dreamteam.conr4khphv8c.us-east-2.rds.amazonaws.com',\n",
    "    port=3306, \n",
    "    db='nyhealth',\n",
    "    encoding = 'utf8'\n",
    ")\n",
    "engine = create_engine(conn_string)"
   ]
  },
  {
   "cell_type": "code",
   "execution_count": null,
   "metadata": {},
   "outputs": [],
   "source": [
    "# Dataset from NYC Open Data: https://data.cityofnewyork.us/City-Government/Neighborhood-Tabulation-Areas/cpf4-rkhq\n",
    "!curl 'https://data.cityofnewyork.us/api/geospatial/cpf4-rkhq?method=export&format=GeoJSON' -o nyc-neighborhoods.geojson"
   ]
  },
  {
   "cell_type": "markdown",
   "metadata": {},
   "source": [
    "#Correlation matrix for highly rated yelp versus highly rated health score"
   ]
  },
  {
   "cell_type": "code",
   "execution_count": null,
   "metadata": {},
   "outputs": [],
   "source": [
    "# Load the shapefile\n",
    "df_nyc = gpd.GeoDataFrame.from_file('nyc-neighborhoods.geojson')\n",
    "# Limit the data to only Manhattan neighborhoods \n",
    "df_manhattan = df_nyc[df_nyc.boro_name =='Manhattan']\n",
    "import matplotlib.pyplot as plt"
   ]
  },
  {
   "cell_type": "code",
   "execution_count": null,
   "metadata": {},
   "outputs": [],
   "source": [
    "# combined - high rating, low health\n",
    "\n",
    "query = '''\n",
    "select *\n",
    "from NYHEALTH n\n",
    "join YELP y on y.phone = n.phone\n",
    "where grade = 'c'\n",
    "and longitude between '-73.9' and '-74.5'\n",
    "and latitude between '40' and '41'\n",
    "and rating > 4;\n",
    "\n",
    "'''\n",
    "df = pd.read_sql(query, con=engine)\n",
    "df['longitude'] = df[['longitude']].apply(pd.to_numeric) #in db, column is object instead of float64\n",
    "df['latitude'] = df[['latitude']].apply(pd.to_numeric)\n",
    "\n",
    "\n",
    "manhattan_plot = df_manhattan.plot(linewidth=0.5, color='White', edgecolor='Black', figsize=(15, 10))\n",
    "\n",
    "scatterplot = df.plot(kind='scatter',\n",
    "                           x='longitude', y='latitude',\n",
    "                           figsize=(15, 10), \n",
    "                          s=.5, \n",
    "                            alpha=0.1,\n",
    "                           ax=manhattan_plot\n",
    "                           )\n",
    "\n",
    "\n",
    "sns.kdeplot(df.longitude, df.latitude,\n",
    "            gridsize=200, n_levels=15, \n",
    "            shade=True, alpha=0.7,\n",
    "            cmap=plt.cm.Reds,  shade_lowest=False,\n",
    "            ax=scatterplot\n",
    "            )"
   ]
  },
  {
   "cell_type": "code",
   "execution_count": null,
   "metadata": {},
   "outputs": [],
   "source": [
    "# combined - high rating, high health\n",
    "\n",
    "query = '''\n",
    "select *\n",
    "from NYHEALTH n\n",
    "join YELP y on y.phone = n.phone\n",
    "where grade = 'a'\n",
    "and longitude between '-73.9' and '-74.5'\n",
    "and latitude between '40' and '41'\n",
    "and rating > 4\n",
    "and CAMIS not in (select CAMIS from NYHEALTH where grade in ('c','b'));\n",
    "\n",
    "\n",
    "'''\n",
    "df = pd.read_sql(query, con=engine)\n",
    "df['longitude'] = df[['longitude']].apply(pd.to_numeric) #in db, column is object instead of float64\n",
    "df['latitude'] = df[['latitude']].apply(pd.to_numeric) #in db, column is object instead of float64\n",
    "\n",
    "\n",
    "manhattan_plot = df_manhattan.plot(linewidth=0.5, color='White', edgecolor='Black', figsize=(15, 10))\n",
    "\n",
    "scatterplot = df.plot(kind='scatter',\n",
    "                           x='longitude', y='latitude',\n",
    "                           figsize=(15, 10), \n",
    "                          s=.5, \n",
    "                            alpha=0.1,\n",
    "                           ax=manhattan_plot\n",
    "                           )\n",
    "\n",
    "\n",
    "sns.kdeplot(df.longitude, df.latitude,\n",
    "            gridsize=200, n_levels=15, \n",
    "            shade=True, alpha=0.7,\n",
    "            cmap=plt.cm.Purples,  shade_lowest=False,\n",
    "            ax=scatterplot\n",
    "            )"
   ]
  },
  {
   "cell_type": "markdown",
   "metadata": {},
   "source": [
    "#What is the average health score of restaurants in NYC area with a 4.5 stars or higher?"
   ]
  },
  {
   "cell_type": "code",
   "execution_count": null,
   "metadata": {},
   "outputs": [],
   "source": [
    "query = '''\n",
    "SELECT Y.zip_code AS zip_code, AVG(score) AS health_score\n",
    "FROM YELP Y JOIN NYHEALTH N ON Y.phone=N.phone\n",
    "    WHERE Y.zip_code IN ('10026', '10027', '10030', '10037', '10039', '10001', '10011', '10018', \n",
    "    '10019', '10020', '10036', '10029', '10035', '10010', '10016', '10017', '10022', '10012', '10013', \n",
    "    '10014', '10004', '10005', '10006', '10007', '10038', '10280', '10002', '10003', '10009', '10021', \n",
    "    '10028', '10044', '10065', '10075', '10128', '10023', '10024', '10025', '10031', '10032', '10033', '10034', '10040','10002')\n",
    "    AND Y.rating >= 4.5\n",
    "    GROUP BY zip_code\n",
    "ORDER BY health_score DESC;\n",
    "'''\n",
    "df = pd.read_sql(query, con=engine)\n",
    "df.set_index('zip_code')\n",
    "df\n"
   ]
  },
  {
   "cell_type": "code",
   "execution_count": null,
   "metadata": {},
   "outputs": [],
   "source": [
    "#average health score across all zip codes in Manhattan\n",
    "df[\"health_score\"].mean()"
   ]
  },
  {
   "cell_type": "code",
   "execution_count": null,
   "metadata": {},
   "outputs": [],
   "source": [
    "#worst health score\n",
    "df[\"health_score\"].max()"
   ]
  },
  {
   "cell_type": "code",
   "execution_count": null,
   "metadata": {},
   "outputs": [],
   "source": [
    "#best health score\n",
    "df[\"health_score\"].min()"
   ]
  },
  {
   "cell_type": "code",
   "execution_count": null,
   "metadata": {
    "scrolled": true
   },
   "outputs": [],
   "source": [
    "#horizontal bar chart showing health score by manhattan zip code\n",
    "df.set_index('zip_code','health_score').plot(kind='barh', figsize=(15,10)).legend(bbox_to_anchor=(1,1))"
   ]
  },
  {
   "cell_type": "markdown",
   "metadata": {},
   "source": [
    "#What are the top 5 violations amongst each price category?"
   ]
  },
  {
   "cell_type": "code",
   "execution_count": null,
   "metadata": {},
   "outputs": [],
   "source": [
    "query3a = '''\n",
    "SELECT `VIOLATION DESCRIPTION`, COUNT(*) AS num_inspections, price\n",
    "from YELP Y JOIN NYHEALTH N ON Y.phone = N.phone\n",
    "WHERE price IS NOT NULL AND `VIOLATION DESCRIPTION` IS NOT NULL AND price = \"$\"\n",
    "GROUP BY `VIOLATION DESCRIPTION`, price\n",
    "ORDER BY num_inspections DESC\n",
    "LIMIT 5;\n",
    "'''\n",
    "ratnorm1 = '''\n",
    "SELECT COUNT(*) AS num_inspections, price\n",
    "from YELP Y JOIN NYHEALTH N ON Y.phone = N.phone\n",
    "WHERE PRICE = \"$\"\n",
    "GROUP BY price;\n",
    "'''\n",
    "db_join1 = pd.read_sql(query3a, con=engine)\n",
    "db_join1.set_index('price')\n",
    "ratnorm1 = pd.read_sql(ratnorm1, con=engine)\n",
    "ratnorm1.set_index('price')\n",
    "val = db_join1.num_inspections / ratnorm1.num_inspections[0]\n",
    "db_join1[\"% inspect in price\"] = val"
   ]
  },
  {
   "cell_type": "code",
   "execution_count": null,
   "metadata": {},
   "outputs": [],
   "source": [
    "query3b = '''\n",
    "SELECT `VIOLATION DESCRIPTION`, COUNT(*) AS num_inspections, price\n",
    "from YELP Y JOIN NYHEALTH N ON Y.phone = N.phone\n",
    "WHERE price IS NOT NULL AND `VIOLATION DESCRIPTION` IS NOT NULL AND price = \"$$\"\n",
    "GROUP BY `VIOLATION DESCRIPTION`, price\n",
    "ORDER BY num_inspections DESC\n",
    "LIMIT 5;\n",
    "'''\n",
    "ratnorm2 = '''\n",
    "SELECT COUNT(*) AS num_inspections, price\n",
    "from YELP Y JOIN NYHEALTH N ON Y.phone = N.phone\n",
    "WHERE PRICE = \"$$\"\n",
    "GROUP BY price;\n",
    "'''\n",
    "db_join2 = pd.read_sql(query3b, con=engine)\n",
    "db_join2.set_index('price')\n",
    "ratnorm2 = pd.read_sql(ratnorm2, con=engine)\n",
    "ratnorm2.set_index('price')\n",
    "val2 = db_join2.num_inspections / ratnorm2.num_inspections[0]\n",
    "db_join2[\"% inspect in price\"] = val2\n",
    "db2= db_join1.append(db_join2)"
   ]
  },
  {
   "cell_type": "code",
   "execution_count": null,
   "metadata": {},
   "outputs": [],
   "source": [
    "query3c = '''\n",
    "SELECT `VIOLATION DESCRIPTION`, COUNT(*) AS num_inspections, price\n",
    "from YELP Y JOIN NYHEALTH N ON Y.phone = N.phone\n",
    "WHERE price IS NOT NULL AND `VIOLATION DESCRIPTION` IS NOT NULL AND price = \"$$$\"\n",
    "GROUP BY `VIOLATION DESCRIPTION`, price\n",
    "ORDER BY num_inspections DESC\n",
    "LIMIT 5;\n",
    "'''\n",
    "ratnorm3 = '''\n",
    "SELECT COUNT(*) AS num_inspections, price\n",
    "from YELP Y JOIN NYHEALTH N ON Y.phone = N.phone\n",
    "WHERE PRICE = \"$$$\"\n",
    "GROUP BY price;\n",
    "'''\n",
    "db_join3 = pd.read_sql(query3c, con=engine)\n",
    "db_join3.set_index('price')\n",
    "ratnorm3 = pd.read_sql(ratnorm3, con=engine)\n",
    "ratnorm3.set_index('price')\n",
    "val3 = db_join3.num_inspections / ratnorm3.num_inspections[0]\n",
    "db_join3[\"% inspect in price\"] = val3\n",
    "db3 = db2.append(db_join3)"
   ]
  },
  {
   "cell_type": "code",
   "execution_count": null,
   "metadata": {},
   "outputs": [],
   "source": [
    "query3d = '''\n",
    "SELECT `VIOLATION DESCRIPTION`, COUNT(*) AS num_inspections, price\n",
    "from YELP Y JOIN NYHEALTH N ON Y.phone = N.phone\n",
    "WHERE price IS NOT NULL AND `VIOLATION DESCRIPTION` IS NOT NULL AND price = \"$$$$\"\n",
    "GROUP BY `VIOLATION DESCRIPTION`, price\n",
    "ORDER BY num_inspections DESC\n",
    "LIMIT 5;\n",
    "'''\n",
    "ratnorm4 = '''\n",
    "SELECT COUNT(*) AS num_inspections, price\n",
    "from YELP Y JOIN NYHEALTH N ON Y.phone = N.phone\n",
    "WHERE PRICE = \"$$$$\"\n",
    "GROUP BY price;\n",
    "'''\n",
    "db_join4 = pd.read_sql(query3d, con=engine)\n",
    "db_join4['price'] = \"4$\"\n",
    "db_join4.set_index('price')\n",
    "ratnorm4 = pd.read_sql(ratnorm4, con=engine)\n",
    "ratnorm4.set_index('price')\n",
    "val4 = db_join4.num_inspections / ratnorm4.num_inspections[0]\n",
    "db_join4[\"% inspect in price\"] = val4\n",
    "dbfinal = db3.append(db_join4)"
   ]
  },
  {
   "cell_type": "code",
   "execution_count": null,
   "metadata": {},
   "outputs": [],
   "source": [
    "dbfinal.set_index('price')\n",
    "dbfinal['% inspect in price']= round(dbfinal['% inspect in price']*100,2)"
   ]
  },
  {
   "cell_type": "code",
   "execution_count": null,
   "metadata": {},
   "outputs": [],
   "source": [
    "dfp = pd.pivot_table(data = dbfinal, index='VIOLATION DESCRIPTION', columns='price', values='% inspect in price')"
   ]
  },
  {
   "cell_type": "code",
   "execution_count": null,
   "metadata": {},
   "outputs": [],
   "source": [
    "dfp"
   ]
  },
  {
   "cell_type": "markdown",
   "metadata": {},
   "source": [
    "#Does more $$ = < rats?"
   ]
  },
  {
   "cell_type": "code",
   "execution_count": null,
   "metadata": {},
   "outputs": [],
   "source": [
    "ratcount ='''\n",
    "SELECT COUNT(*) AS rats, price, `VIOLATION DESCRIPTION`\n",
    "from YELP Y JOIN NYHEALTH N ON Y.phone = N.phone\n",
    "WHERE `VIOLATION CODE`=\"04k\" \n",
    "GROUP BY price;\n",
    "'''\n",
    "db_rats = pd.read_sql(ratcount, con=engine)"
   ]
  },
  {
   "cell_type": "code",
   "execution_count": null,
   "metadata": {},
   "outputs": [],
   "source": [
    "#db_rats=db_rats.set_index('price')\n",
    "db_rats.drop(db_rats.index[0], inplace=True)\n",
    "db_rats"
   ]
  },
  {
   "cell_type": "code",
   "execution_count": null,
   "metadata": {},
   "outputs": [],
   "source": [
    "db_rats=db_rats.drop(columns=\"VIOLATION DESCRIPTION\")"
   ]
  },
  {
   "cell_type": "code",
   "execution_count": null,
   "metadata": {},
   "outputs": [],
   "source": [
    "ratnorm = '''\n",
    "SELECT COUNT(*) AS num_inspections, price\n",
    "from YELP Y JOIN NYHEALTH N ON Y.phone = N.phone\n",
    "GROUP BY price;\n",
    "'''\n",
    "norm = pd.read_sql(ratnorm, con=engine)\n",
    "norm.drop(norm.index[0], inplace=True)\n",
    "#norm=norm.set_index('price')"
   ]
  },
  {
   "cell_type": "code",
   "execution_count": null,
   "metadata": {},
   "outputs": [],
   "source": [
    "v = (db_rats.rats / norm.num_inspections) * 100\n",
    "db_rats[\"%_inspect\"] = v"
   ]
  },
  {
   "cell_type": "code",
   "execution_count": null,
   "metadata": {},
   "outputs": [],
   "source": [
    "db_rats"
   ]
  },
  {
   "cell_type": "code",
   "execution_count": null,
   "metadata": {
    "scrolled": true
   },
   "outputs": [],
   "source": [
    "dbplot = db_rats\n",
    "dbplot['labels'] = ['$','2$','3$','4$']\n",
    "dbplot.set_index('labels')\n",
    "dplot1=dbplot.drop(columns=['price','%_inspect'])\n",
    "dplot2=dbplot.drop(columns=['price','rats'])\n",
    "dplot1.set_index('labels')"
   ]
  },
  {
   "cell_type": "code",
   "execution_count": null,
   "metadata": {
    "scrolled": false
   },
   "outputs": [],
   "source": [
    "dplot1_go=dplot1.plot(kind=\"barh\", color=\"#d32323ff\", title=\"\", legend=False, figsize=(15,4))\n",
    "dplot1_go.set_xlabel(\"# violations\", fontsize=20)\n",
    "dplot1_go.set_ylabel(\"$ category\", fontsize=20)"
   ]
  },
  {
   "cell_type": "code",
   "execution_count": null,
   "metadata": {
    "scrolled": false
   },
   "outputs": [],
   "source": [
    "dplot2_go=dplot2.plot(kind=\"barh\", color=\"#ffd58d\", title=\"\", legend=False,figsize=(15,4))\n",
    "dplot2_go.set_xlabel(\"% violations\",fontsize=20)\n",
    "dplot2_go.set_ylabel(\"$ category\",fontsize=20)"
   ]
  },
  {
   "cell_type": "raw",
   "metadata": {},
   "source": [
    "#Is there a relationship between the number of reviews and number of inspections?"
   ]
  },
  {
   "cell_type": "code",
   "execution_count": null,
   "metadata": {},
   "outputs": [],
   "source": [
    "query4 = '''\n",
    "SELECT COUNT(*) AS number_of_inspections, review_count AS number_of_reviews\n",
    "FROM YELP Y JOIN NYHEALTH N ON Y.phone=N.phone\n",
    "GROUP BY review_count;\n",
    "'''"
   ]
  },
  {
   "cell_type": "code",
   "execution_count": null,
   "metadata": {},
   "outputs": [],
   "source": [
    "reviewsinspections = pd.read_sql(query4, con=engine)"
   ]
  },
  {
   "cell_type": "code",
   "execution_count": null,
   "metadata": {},
   "outputs": [],
   "source": [
    "reviewsinspections.plot.area(stacked=False, figsize = (25,15)).legend(bbox_to_anchor=(.5, .5))"
   ]
  },
  {
   "cell_type": "code",
   "execution_count": null,
   "metadata": {},
   "outputs": [],
   "source": [
    "clean_mask = (reviewsinspections.number_of_reviews < 3000) & (reviewsinspections.number_of_inspections < 3000) & (reviewsinspections.number_of_reviews > 0) & (reviewsinspections.number_of_inspections > 0)\n",
    "cleandf = reviewsinspections[clean_mask]"
   ]
  },
  {
   "cell_type": "code",
   "execution_count": null,
   "metadata": {},
   "outputs": [],
   "source": [
    "cleandf.plot.area(stacked=False, figsize = (25,15))"
   ]
  },
  {
   "cell_type": "code",
   "execution_count": null,
   "metadata": {},
   "outputs": [],
   "source": []
  }
 ],
 "metadata": {
  "kernelspec": {
   "display_name": "Python 3",
   "language": "python",
   "name": "python3"
  },
  "language_info": {
   "codemirror_mode": {
    "name": "ipython",
    "version": 3
   },
   "file_extension": ".py",
   "mimetype": "text/x-python",
   "name": "python",
   "nbconvert_exporter": "python",
   "pygments_lexer": "ipython3",
   "version": "3.6.5"
  }
 },
 "nbformat": 4,
 "nbformat_minor": 2
}
